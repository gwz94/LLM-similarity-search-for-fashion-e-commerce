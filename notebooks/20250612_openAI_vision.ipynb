{
 "cells": [
  {
   "cell_type": "code",
   "execution_count": 29,
   "metadata": {},
   "outputs": [],
   "source": [
    "import os, json\n",
    "import dotenv\n",
    "from io import BytesIO\n",
    "\n",
    "from openai import OpenAI\n",
    "from PIL import Image\n",
    "import pandas as pd\n",
    "import numpy as np\n",
    "import requests\n",
    "from dotenv import load_dotenv\n",
    "from tqdm import tqdm\n",
    "\n",
    "load_dotenv()\n",
    "client = OpenAI()\n"
   ]
  },
  {
   "cell_type": "code",
   "execution_count": 2,
   "metadata": {},
   "outputs": [],
   "source": [
    "# Load data\n",
    "data = []\n",
    "with open(\"../raw_data/meta_amazon_fashion.jsonl\", \"r\") as f:\n",
    "    for line in f:\n",
    "        item = json.loads(line)\n",
    "        data.append(item)\n",
    "\n",
    "df_amazon_fashion = pd.DataFrame(data)\n"
   ]
  },
  {
   "cell_type": "code",
   "execution_count": 4,
   "metadata": {},
   "outputs": [
    {
     "name": "stderr",
     "output_type": "stream",
     "text": [
      "/var/folders/1_/cl4bz3j57jq24gm92byzkmbw0000gn/T/ipykernel_63092/2434294666.py:2: FutureWarning: DataFrame.applymap has been deprecated. Use DataFrame.map instead.\n",
      "  df_amazon_fashion = df_amazon_fashion.applymap(\n"
     ]
    }
   ],
   "source": [
    "# Handle missing values or values with only space\n",
    "df_amazon_fashion = df_amazon_fashion.applymap(\n",
    "    lambda x: np.nan               # turn into NaN\n",
    "    if (\n",
    "        (isinstance(x, list) and len(x) == 0)\n",
    "        or (isinstance(x, str) and x.strip() == \"\")\n",
    "    )\n",
    "    else x\n",
    ")\n"
   ]
  },
  {
   "cell_type": "code",
   "execution_count": 97,
   "metadata": {},
   "outputs": [],
   "source": []
  },
  {
   "cell_type": "markdown",
   "metadata": {},
   "source": [
    "# Purpose of this notebook\n",
    "\n",
    "- This notebook is for function testing of using openAI vision to extract title or other details for amazon product list.\n",
    "- Some of the product in the dataset have missing value of tittle. Thus generating title would help with the semantic search.\n",
    "- This method would be evaluate based on the cost of processing each image"
   ]
  },
  {
   "cell_type": "code",
   "execution_count": null,
   "metadata": {},
   "outputs": [],
   "source": []
  },
  {
   "cell_type": "markdown",
   "metadata": {},
   "source": [
    "# Estimation of cost in processing images of each resolution using OpenAI model"
   ]
  },
  {
   "cell_type": "code",
   "execution_count": 54,
   "metadata": {},
   "outputs": [],
   "source": [
    "def get_image_patches_count(img_url: str) -> int:\n",
    "\n",
    "    response = requests.get(img_url)\n",
    "    image = Image.open(BytesIO(response.content))\n",
    "    \n",
    "    width, height = image.size\n",
    "    width_patches = (width + 32 - 1) // 32\n",
    "    height_patches = (height + 32 - 1) // 32\n",
    "    \n",
    "    return width_patches *height_patches"
   ]
  },
  {
   "cell_type": "code",
   "execution_count": 62,
   "metadata": {},
   "outputs": [
    {
     "name": "stderr",
     "output_type": "stream",
     "text": [
      "100%|██████████| 500/500 [03:49<00:00,  2.18it/s]  \n"
     ]
    }
   ],
   "source": [
    "pixel_results = {}\n",
    "\n",
    "for idx, row in tqdm(df_amazon_fashion[:500].iterrows(), total=500):\n",
    "    first_image = row[\"images\"][0]\n",
    "    \n",
    "    for key, image in first_image.items():\n",
    "        if key == \"variant\":\n",
    "            continue\n",
    "\n",
    "        if image:\n",
    "            if idx not in pixel_results:\n",
    "                pixel_results[idx] = {}\n",
    "\n",
    "            pixel_results[idx][key] = get_image_patches_count(image)\n"
   ]
  },
  {
   "cell_type": "code",
   "execution_count": 67,
   "metadata": {},
   "outputs": [
    {
     "name": "stdout",
     "output_type": "stream",
     "text": [
      "Thumb image avg patches: 4.0\n",
      "Large image avg patches: 158.842\n",
      "Hi_res image avg patches: 1214.7885835095137\n"
     ]
    }
   ],
   "source": [
    "thumb_image_avg_patches = np.mean([t[\"thumb\"] for t in pixel_results.values()])\n",
    "large_image_avg_patches = np.mean([t[\"large\"] for t in pixel_results.values()])\n",
    "hi_res_image_avg_patches = np.mean([t[\"hi_res\"] for t in pixel_results.values() if \"hi_res\" in t])\n",
    "\n",
    "print(f\"Thumb image avg patches: {thumb_image_avg_patches}\")\n",
    "print(f\"Large image avg patches: {large_image_avg_patches}\")\n",
    "print(f\"Hi_res image avg patches: {hi_res_image_avg_patches}\")\n"
   ]
  },
  {
   "cell_type": "markdown",
   "metadata": {},
   "source": [
    "### Observation\n",
    "\n",
    "- Some of the hi_res image are missing\n",
    "- The average patches of thumb, large, hi_res image are all under the maximum cap of OpenAI vision model.\n",
    "- for hi_res image, gpt-4.1-mini_tokens = 1966.68, gpt-4.1-nano_tokens = 2986.44\n",
    "- Cost of processing one image would be 0.0007 for gpt-4-mini and 0.0002 for gpt-4-nano, if I were to run throughout all the images, it would cost $578 for gpt-4-mini and 165 for gpt-4-nano\n",
    "- In order to save cost for the rest of project, the best decision to only use it on items with missing title."
   ]
  },
  {
   "cell_type": "code",
   "execution_count": 70,
   "metadata": {},
   "outputs": [
    {
     "name": "stdout",
     "output_type": "stream",
     "text": [
      "Cost for hi_res image using gpt-4.1-mini: 0.000786672\n",
      "Cost for hi_res image using gpt-4.1-nano: 0.000298644\n"
     ]
    }
   ],
   "source": [
    "# gpt-4.1-min price = 0.0015 per 1k tokens\n",
    "hi_res_image_avg_tokens = 1966.68\n",
    "cost = hi_res_image_avg_tokens * 0.4 / 1000000\n",
    "print(f\"Cost for hi_res image using gpt-4.1-mini: {cost}\")\n",
    "\n",
    "# gpt-4.1-nano price = 0.003 per 1k tokens\n",
    "hi_res_image_avg_tokens = 2986.44\n",
    "cost = hi_res_image_avg_tokens * 0.1 / 1000000\n",
    "print(f\"Cost for hi_res image using gpt-4.1-nano: {cost}\")"
   ]
  },
  {
   "cell_type": "code",
   "execution_count": 73,
   "metadata": {},
   "outputs": [
    {
     "data": {
      "text/plain": [
       "58"
      ]
     },
     "execution_count": 73,
     "metadata": {},
     "output_type": "execute_result"
    }
   ],
   "source": [
    "df_amazon_fashion.loc[df_amazon_fashion[\"title\"].isna()].shape[0]"
   ]
  },
  {
   "cell_type": "markdown",
   "metadata": {},
   "source": [
    "# Feature extraction from product image using OpenAI-vision"
   ]
  },
  {
   "cell_type": "code",
   "execution_count": 81,
   "metadata": {},
   "outputs": [],
   "source": [
    "def image_feature_extraction(img_url: str, system_prompt: str, prompt: str) -> str:\n",
    "\n",
    "    response = client.responses.create(\n",
    "    model=\"gpt-4.1-mini\",\n",
    "    input=[{\n",
    "                \"role\": \"system\",\n",
    "                \"content\": system_prompt\n",
    "            },\n",
    "            {\n",
    "            \"role\": \"user\",\n",
    "            \"content\": [\n",
    "               \n",
    "                {\n",
    "                    \"type\": \"input_text\",\n",
    "                    \"text\": prompt\n",
    "                },\n",
    "                {\n",
    "                    \"type\": \"input_image\",\n",
    "                    \"image_url\": img_url\n",
    "                }\n",
    "            ]\n",
    "        }\n",
    "    ]\n",
    ")\n",
    "    \n",
    "    return response.output_text"
   ]
  },
  {
   "cell_type": "code",
   "execution_count": 84,
   "metadata": {},
   "outputs": [
    {
     "data": {
      "text/plain": [
       "{'thumb': 'https://m.media-amazon.com/images/I/41yu6BWYFwL._AC_SR38,50_.jpg',\n",
       " 'large': 'https://m.media-amazon.com/images/I/41yu6BWYFwL._AC_.jpg',\n",
       " 'variant': 'MAIN',\n",
       " 'hi_res': 'https://m.media-amazon.com/images/I/713-I6hOwML._AC_UL1500_.jpg'}"
      ]
     },
     "execution_count": 84,
     "metadata": {},
     "output_type": "execute_result"
    }
   ],
   "source": [
    "df_amazon_fashion.loc[df_amazon_fashion.title.isna()][\"images\"].iat[3][0]"
   ]
  },
  {
   "cell_type": "markdown",
   "metadata": {},
   "source": []
  },
  {
   "cell_type": "code",
   "execution_count": 98,
   "metadata": {},
   "outputs": [
    {
     "name": "stdout",
     "output_type": "stream",
     "text": [
      "{\n",
      "  \"Image_available\": \"Yes\",\n",
      "  \"Title\": \"Toddler Girls' Camouflage Three-Piece Outfit with 'Daddy's Girl' Printed T-Shirt, Pants, and Matching Headband\",\n",
      "  \"Description\": \"This adorable three-piece toddler outfit includes an olive green short-sleeve T-shirt with 'Daddy's Girl' printed in white, camouflage elastic waist pants, and a matching camouflage knotted headband. Perfect for casual wear and playful days.\",\n",
      "  \"Age Range (Description)\": \"toddler\",\n",
      "  \"Sex\": \"Women's\",\n",
      "  \"Brand\": \"Not Specified\",\n",
      "  \"Color\": \"Olive Green, Camouflage\",\n",
      "  \"Style\": \"Casual\",\n",
      "  \"Pattern\": \"Camouflage, Printed\",\n",
      "  \"Theme\": \"Casual Playtime\",\n",
      "  \"Clothing_category\": \"Tops & Tees\",\n",
      "  \"Shoes_category\": \"Not Shoes\",\n",
      "  \"Accessories_category\": \"Accessories\",\n",
      "  \"Sportswear_category\": \"Not Sportswear\",\n",
      "  \"Uniforms & Workwear_category\": \"Not Uniforms & Workwear\",\n",
      "  \"Adult_category\": \"No\",\n",
      "  \"Violience\": \"No\",\n",
      "  \"Harmful\": \"No\"\n",
      "}\n"
     ]
    }
   ],
   "source": [
    "system_prompt = \"\"\"\n",
    "                You are a helpful assistant that analyzes fashion product images\n",
    "                and generates detailed and accurate titles suitable for e-commerce listings.\n",
    "                \"\"\"\n",
    "\n",
    "prompt = \"\"\"Please generate a detailed product title for this fashion item.\n",
    "            \n",
    "            fashion_categories = {\n",
    "            \"Clothing\": [\n",
    "                \"Activewear\",\n",
    "                \"Dresses\",\n",
    "                \"Jeans\",\n",
    "                \"Jackets & Coats\",\n",
    "                \"Loungewear & Sleepwear\",\n",
    "                \"Pants & Trousers\",\n",
    "                \"Shirts\",\n",
    "                \"Shirts & Blouses\",\n",
    "                \"Shorts\",\n",
    "                \"Suits & Blazers\",\n",
    "                \"Sweaters & Hoodies\",\n",
    "                \"Swimwear\",\n",
    "                \"Tops & Tees\",\n",
    "                \"T-shirts\",\n",
    "                \"Underwear & Lingerie\",\n",
    "                \"Clothing\",\n",
    "                \"Not Clothing\"\n",
    "            ],\n",
    "            \n",
    "            \"Shoes\": [\n",
    "                \"Athletic Shoes\",\n",
    "                \"Boots\",\n",
    "                \"Dress Shoes\",\n",
    "                \"Flats\",\n",
    "                \"Heels\",\n",
    "                \"Loafers & Slip-ons\",\n",
    "                \"Sandals\",\n",
    "                \"Sneakers\",\n",
    "                \"Shoes\",\n",
    "                \"Not Shoes\"\n",
    "            ],\n",
    "\n",
    "            \"Accessories\": [\n",
    "                \"Bags & Purses\",\n",
    "                \"Belts\",\n",
    "                \"Eyewear (Sunglasses, Optical Frames)\",\n",
    "                \"Gloves & Mittens\",\n",
    "                \"Hats & Caps\",\n",
    "                \"Jewelry\",\n",
    "                \"Scarves & Wraps\",\n",
    "                \"Wallets\",\n",
    "                \"Watches\",\n",
    "                \"Accessories\",\n",
    "                \"Not Accessories\"\n",
    "            ],\n",
    "\n",
    "            \"Sportswear\": [\n",
    "                \"Compression Clothing\",\n",
    "                \"Gym Wear\",\n",
    "                \"Outdoor Gear (Hiking, Running)\",\n",
    "                \"Yoga Apparel\",\n",
    "                \"Sportswear\",\n",
    "                \"Not Sportswear\"\n",
    "            ],\n",
    "\n",
    "            \"Uniforms & Workwear\": [\n",
    "                \"Chef Wear\",\n",
    "                \"Lab Coats\",\n",
    "                \"Scrubs\",\n",
    "                \"Security/Industrial Uniforms\",\n",
    "                \"Uniforms & Workwear\",\n",
    "                \"Not Uniforms & Workwear\"\n",
    "            ]\n",
    "            }\n",
    "\n",
    "            ## Output format\n",
    "            - please return in JSON object format (do not include ```)\n",
    "\n",
    "\n",
    "            ## Example output\n",
    "            {   \n",
    "                \"Image_available\": \"Yes\",\n",
    "                \"Title\": \"Tops & Tees\",\n",
    "                \"Description\": \"This is a description of the product\",\n",
    "                \"Age Range (Description)\": \"teenager\",\n",
    "                \"Brand\": \"Brand name\",\n",
    "                \"Color\": \"Red\",\n",
    "                \"Style\": \"Casual\",\n",
    "                \"Pattern\": \"Solid\",\n",
    "                \"Theme\": \"Spring\",\n",
    "                \"Occasion\": \"Beach\" or \"Office\" or \"Party\" or \"Casual\" or \"Formal\" or \"Sport\" or \"Other\",\n",
    "                \"Clothing_category\": \"Tops & Tees\",\n",
    "                \"Shoes_category\": \"Not Shoes\",\n",
    "                \"Accessories_category\": \"Not Accessories\",\n",
    "                \"Sportswear_category\": \"Not Sportswear\",\n",
    "                \"Uniforms & Workwear_category\": \"Not Uniforms & Workwear\",\n",
    "\n",
    "            }\n",
    "\n",
    "\n",
    "\"\"\"\n",
    "\n",
    "image_url = \"https://m.media-amazon.com/images/I/41yu6BWYFwL._AC_.jpg\"\n",
    "\n",
    "response = image_feature_extraction(image_url, system_prompt, prompt)\n",
    "\n",
    "print(response)"
   ]
  },
  {
   "cell_type": "code",
   "execution_count": null,
   "metadata": {},
   "outputs": [],
   "source": []
  }
 ],
 "metadata": {
  "kernelspec": {
   "display_name": "py312",
   "language": "python",
   "name": "python3"
  },
  "language_info": {
   "codemirror_mode": {
    "name": "ipython",
    "version": 3
   },
   "file_extension": ".py",
   "mimetype": "text/x-python",
   "name": "python",
   "nbconvert_exporter": "python",
   "pygments_lexer": "ipython3",
   "version": "3.12.11"
  }
 },
 "nbformat": 4,
 "nbformat_minor": 2
}
